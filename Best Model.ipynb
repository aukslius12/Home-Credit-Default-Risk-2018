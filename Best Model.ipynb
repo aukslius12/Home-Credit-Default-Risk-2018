{
 "cells": [
  {
   "cell_type": "markdown",
   "metadata": {},
   "source": [
    "###Best model selection\n",
    "\n",
    "This code is used to find best model (pre-parameter tuning) for the dataset."
   ]
  },
  {
   "cell_type": "code",
   "execution_count": 1,
   "metadata": {},
   "outputs": [
    {
     "name": "stderr",
     "output_type": "stream",
     "text": [
      "Using TensorFlow backend.\n"
     ]
    }
   ],
   "source": [
    "# Dependencies.\n",
    "import pandas as pd\n",
    "import numpy as np\n",
    "import matplotlib.pyplot as plt\n",
    "\n",
    "from dataPreprocessing import dataPreprocessing"
   ]
  },
  {
   "cell_type": "code",
   "execution_count": null,
   "metadata": {},
   "outputs": [],
   "source": [
    "# Data loading and preprocessing.\n",
    "dataset = pd.read_csv('data/application_train.csv', index_col=0)\n",
    "data_param = pd.read_csv('results/param_preprocess.csv', index_col=0)\n",
    "#dataset = pd.read_csv('data/application_train.csv', index_col=0) # Weird bug. Resets \n",
    "data_non_param = dataPreprocessing(parametric_model=False, remove_na_values=True).preprocess(dataset)\n",
    "\n",
    "data_pseudo_raw = dataPreprocessing(parametric_model=False, remove_na_values=False).preprocess(dataset)"
   ]
  },
  {
   "cell_type": "markdown",
   "metadata": {},
   "source": [
    "###1. Linear Classifiers: Logistic Regression / Naiive Bayes"
   ]
  }
 ],
 "metadata": {
  "kernelspec": {
   "display_name": "Python 3",
   "language": "python",
   "name": "python3"
  },
  "language_info": {
   "codemirror_mode": {
    "name": "ipython",
    "version": 3
   },
   "file_extension": ".py",
   "mimetype": "text/x-python",
   "name": "python",
   "nbconvert_exporter": "python",
   "pygments_lexer": "ipython3",
   "version": "3.6.5"
  }
 },
 "nbformat": 4,
 "nbformat_minor": 2
}
